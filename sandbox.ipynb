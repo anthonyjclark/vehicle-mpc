{
 "cells": [
  {
   "cell_type": "code",
   "execution_count": null,
   "id": "2967f588-03bb-4623-bc45-691968cd70af",
   "metadata": {},
   "outputs": [],
   "source": [
    "%load_ext autoreload\n",
    "%autoreload 2"
   ]
  },
  {
   "cell_type": "code",
   "execution_count": null,
   "id": "def1ad57-7642-467f-bd56-87a7283fee40",
   "metadata": {},
   "outputs": [],
   "source": [
    "import matplotlib.pyplot as plt\n",
    "import numpy as np\n",
    "import pandas as pd\n",
    "from tqdm.notebook import tqdm\n",
    "\n",
    "from pid import PidPathFollower\n",
    "from utils import circular_trajectory, show_animation, stadium_trajectory, plot_trajectory\n",
    "from vehicle import Control, State, Vehicle"
   ]
  },
  {
   "cell_type": "code",
   "execution_count": null,
   "id": "fd9f6ddc-c336-4493-82ec-1bb2f639edae",
   "metadata": {},
   "outputs": [],
   "source": [
    "vehicle = Vehicle()\n",
    "states = [vehicle.state.copy()]\n",
    "\n",
    "num_steps = 100\n",
    "for i in range(num_steps):\n",
    "    states.append(vehicle.update(u={\"steer\": 0.3 * np.sin(i / 3.0) + 0.2, \"accel\": 2 * np.sin(i / 10.0)}))\n",
    "\n",
    "states = pd.DataFrame(states)\n",
    "plot_trajectory(states=states)"
   ]
  },
  {
   "cell_type": "code",
   "execution_count": null,
   "id": "4cc13362-cecc-4318-9120-66240d21ce60",
   "metadata": {},
   "outputs": [],
   "source": [
    "def simulate(init_state: State, control_func, duration: float, dt: float, max_steer, max_accel):\n",
    "    vehicle = Vehicle(init_state=init_state, max_steer=max_steer, max_accel=max_accel, dt=dt)\n",
    "\n",
    "    states = [vehicle.state]\n",
    "    controls = [{\"steer\": 0.0, \"accel\": 0.0}]\n",
    "\n",
    "    num_steps = int(duration / dt)\n",
    "    for _ in tqdm(range(num_steps)):\n",
    "        try:\n",
    "            control: Control = control_func(vehicle.state)\n",
    "        except ValueError as e:\n",
    "            print(e)\n",
    "            break\n",
    "\n",
    "        state = vehicle.update(control)\n",
    "\n",
    "        states.append(state)\n",
    "        controls.append(control)\n",
    "\n",
    "    return pd.DataFrame(states), pd.DataFrame(controls)"
   ]
  },
  {
   "cell_type": "code",
   "execution_count": null,
   "id": "85ae0f93-8585-4f5f-bb61-0748dac9b526",
   "metadata": {},
   "outputs": [],
   "source": [
    "def normalize_angle(angle: float) -> float:\n",
    "    \"\"\"\n",
    "    Normalize an angle to the range [-pi, pi].\n",
    "\n",
    "    Args:\n",
    "        angle (float): Angle in radians.\n",
    "\n",
    "    Returns:\n",
    "        float: Normalized angle in radians.\n",
    "    \"\"\"\n",
    "    return (angle + np.pi) % (2 * np.pi) - np.pi\n",
    "\n",
    "\n",
    "for angle in range(0, 360, 10):\n",
    "    angle = np.deg2rad(angle)\n",
    "    print(angle, normalize_angle(angle))"
   ]
  },
  {
   "cell_type": "code",
   "execution_count": null,
   "id": "b00658e3-ff73-4277-8eea-615484acc60a",
   "metadata": {},
   "outputs": [],
   "source": [
    "duration = 250\n",
    "dt = 0.1\n",
    "\n",
    "reference = stadium_trajectory()\n",
    "# reference = circular_trajectory()\n",
    "\n",
    "init_state = dict(reference.iloc[0])\n",
    "init_state[\"v\"] = 0.0\n",
    "\n",
    "Kp_steer = 3.0\n",
    "Ki_steer = 0.1\n",
    "Kd_steer = 0.3\n",
    "max_steer = np.deg2rad(40)\n",
    "\n",
    "Kp_accel = 0.4\n",
    "Ki_accel = 0.0\n",
    "Kd_accel = 0.0\n",
    "max_accel = 2.0\n",
    "\n",
    "pid_controller = PidPathFollower(\n",
    "    reference,\n",
    "    dt,\n",
    "    Kp_steer,\n",
    "    Ki_steer,\n",
    "    Kd_steer,\n",
    "    max_steer,\n",
    "    Kp_accel,\n",
    "    Ki_accel,\n",
    "    Kd_accel,\n",
    "    max_accel,\n",
    ")\n",
    "\n",
    "states, controls = simulate(init_state, pid_controller, duration, dt, max_steer, max_accel)\n",
    "\n",
    "plot_trajectory(ref_traj=reference, states=states)"
   ]
  },
  {
   "cell_type": "code",
   "execution_count": null,
   "id": "be1f067d-6eef-4361-b3ae-dff097995993",
   "metadata": {},
   "outputs": [],
   "source": [
    "skip = 32\n",
    "show_animation(reference, states.iloc[::skip], controls[::skip], vehicle.max_steer, vehicle.max_accel, dt * 1000)"
   ]
  },
  {
   "cell_type": "code",
   "execution_count": null,
   "id": "ba5a904b-1346-41bc-b3fa-d70105e593e4",
   "metadata": {},
   "outputs": [],
   "source": [
    "controls[[\"accel\", \"steer\"]].plot();"
   ]
  }
 ],
 "metadata": {
  "kernelspec": {
   "display_name": "Python3 (cs152)",
   "language": "python",
   "name": "cs152"
  },
  "language_info": {
   "codemirror_mode": {
    "name": "ipython",
    "version": 3
   },
   "file_extension": ".py",
   "mimetype": "text/x-python",
   "name": "python",
   "nbconvert_exporter": "python",
   "pygments_lexer": "ipython3",
   "version": "3.12.9"
  }
 },
 "nbformat": 4,
 "nbformat_minor": 5
}
